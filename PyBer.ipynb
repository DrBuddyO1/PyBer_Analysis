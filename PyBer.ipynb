{
 "cells": [
  {
   "cell_type": "code",
   "execution_count": null,
   "source": [
    "# Add Matplotlib inline magic command\r\n",
    "%matplotlib inline\r\n",
    "# Dependencies and Setup\r\n",
    "import matplotlib.pyplot as plt\r\n",
    "import pandas as pd"
   ],
   "outputs": [],
   "metadata": {}
  },
  {
   "cell_type": "code",
   "execution_count": null,
   "source": [
    "# Files to load\r\n",
    "city_data_to_load = \"Resources/city_data.csv\"\r\n",
    "ride_data_to_load = \"Resources/ride_data.csv\""
   ],
   "outputs": [],
   "metadata": {}
  },
  {
   "cell_type": "code",
   "execution_count": null,
   "source": [
    "# Read the city data file and store it in a pandas DataFrame.\r\n",
    "city_data_df = pd.read_csv(city_data_to_load)\r\n",
    "city_data_df.head(10)"
   ],
   "outputs": [],
   "metadata": {}
  },
  {
   "cell_type": "code",
   "execution_count": null,
   "source": [
    "# Read the ride data file and store it in a pandas DataFrame.\r\n",
    "ride_data_df = pd.read_csv(ride_data_to_load)\r\n",
    "ride_data_df.head(10)"
   ],
   "outputs": [],
   "metadata": {}
  },
  {
   "cell_type": "code",
   "execution_count": null,
   "source": [
    "# Get the columns and the rows that are not null.\r\n",
    "city_data_df.count()"
   ],
   "outputs": [],
   "metadata": {}
  },
  {
   "cell_type": "code",
   "execution_count": null,
   "source": [
    "# Get the columns and the rows that are not null.\r\n",
    "city_data_df.isnull().sum()"
   ],
   "outputs": [],
   "metadata": {}
  },
  {
   "cell_type": "code",
   "execution_count": null,
   "source": [
    "# Get the data types of each column.\r\n",
    "city_data_df.dtypes"
   ],
   "outputs": [],
   "metadata": {}
  },
  {
   "cell_type": "code",
   "execution_count": null,
   "source": [
    "# Get the unique values of the type of city.\r\n",
    "city_data_df[\"type\"].unique()"
   ],
   "outputs": [],
   "metadata": {}
  },
  {
   "cell_type": "code",
   "execution_count": null,
   "source": [
    "# Get the number of data points from the Urban cities.\r\n",
    "sum(city_data_df[\"type\"]==\"Urban\")"
   ],
   "outputs": [],
   "metadata": {}
  },
  {
   "cell_type": "code",
   "execution_count": null,
   "source": [
    "# Get the number of data points from the Rural cities.\r\n",
    "sum(city_data_df[\"type\"]==\"Rural\")"
   ],
   "outputs": [],
   "metadata": {}
  },
  {
   "cell_type": "code",
   "execution_count": null,
   "source": [
    "# Get the number of data points from the Suburban cities.\r\n",
    "sum(city_data_df[\"type\"]==\"Suburban\")"
   ],
   "outputs": [],
   "metadata": {}
  },
  {
   "cell_type": "code",
   "execution_count": null,
   "source": [
    "# Get the columns and the rows that are not null.\r\n",
    "ride_data_df.count()"
   ],
   "outputs": [],
   "metadata": {}
  },
  {
   "cell_type": "code",
   "execution_count": null,
   "source": [
    "# Get the columns and the rows that are not null.\r\n",
    "ride_data_df.isnull().sum()"
   ],
   "outputs": [],
   "metadata": {}
  },
  {
   "cell_type": "code",
   "execution_count": null,
   "source": [
    "# Get the data types of each column.\r\n",
    "ride_data_df.dtypes"
   ],
   "outputs": [],
   "metadata": {}
  },
  {
   "cell_type": "code",
   "execution_count": null,
   "source": [
    "# Combine the data into a single dataset\r\n",
    "pyber_data_df = pd.merge(ride_data_df, city_data_df, how=\"left\", on=[\"city\", \"city\"])\r\n",
    "\r\n",
    "# Display the DataFrame\r\n",
    "pyber_data_df.head()"
   ],
   "outputs": [],
   "metadata": {}
  },
  {
   "cell_type": "markdown",
   "source": [
    "5.2.5 Complete\r\n",
    "Move to 5.3.1"
   ],
   "metadata": {}
  },
  {
   "cell_type": "code",
   "execution_count": null,
   "source": [
    "# Create the Urban city DataFrame.\r\n",
    "urban_cities_df = pyber_data_df[pyber_data_df[\"type\"] == \"Urban\"]\r\n",
    "urban_cities_df.head()"
   ],
   "outputs": [],
   "metadata": {}
  },
  {
   "cell_type": "code",
   "execution_count": null,
   "source": [
    "# Create the Suburban and Rural city DataFrames.\r\n",
    "suburban_cities_df = pyber_data_df[pyber_data_df[\"type\"] == \"Suburban\"]\r\n",
    "rural_cities_df = pyber_data_df[pyber_data_df[\"type\"] == \"Rural\"]\r\n",
    "rural_cities_df.head()"
   ],
   "outputs": [],
   "metadata": {}
  },
  {
   "cell_type": "code",
   "execution_count": null,
   "source": [
    "#5.3.2\r\n",
    "# Get the number of rides for urban cities.\r\n",
    "urban_ride_count = urban_cities_df.groupby([\"city\"]).count()[\"ride_id\"]\r\n",
    "urban_ride_count.head()\r\n"
   ],
   "outputs": [],
   "metadata": {}
  },
  {
   "cell_type": "code",
   "execution_count": null,
   "source": [
    "# Create the suburban and rural ride count.\r\n",
    "suburban_ride_count = suburban_cities_df.groupby([\"city\"]).count()[\"ride_id\"]\r\n",
    "\r\n",
    "rural_ride_count = rural_cities_df.groupby([\"city\"]).count()[\"ride_id\"]"
   ],
   "outputs": [],
   "metadata": {}
  },
  {
   "cell_type": "code",
   "execution_count": null,
   "source": [
    "#5.3.3\r\n",
    "# Get average fare for each city in the urban cities.\r\n",
    "urban_avg_fare = urban_cities_df.groupby([\"city\"]).mean()[\"fare\"]\r\n",
    "urban_avg_fare.head()"
   ],
   "outputs": [],
   "metadata": {}
  },
  {
   "cell_type": "code",
   "execution_count": null,
   "source": [
    "# Get average fare for each city in the suburban and rural cities.\r\n",
    "suburban_avg_fare = suburban_cities_df.groupby([\"city\"]).mean()[\"fare\"]\r\n",
    "rural_avg_fare = rural_cities_df.groupby([\"city\"]).mean()[\"fare\"]"
   ],
   "outputs": [],
   "metadata": {}
  },
  {
   "cell_type": "markdown",
   "source": [
    "5.3.4"
   ],
   "metadata": {}
  },
  {
   "cell_type": "code",
   "execution_count": null,
   "source": [
    "#5.3.4\r\n",
    "# Get the average number of drivers for each urban city.\r\n",
    "urban_driver_count = urban_cities_df.groupby([\"city\"]).mean()[\"driver_count\"]\r\n",
    "urban_driver_count.head()"
   ],
   "outputs": [],
   "metadata": {}
  },
  {
   "cell_type": "code",
   "execution_count": null,
   "source": [
    "# Get the average number of drivers for each city for the suburban and rural cities.\r\n",
    "suburban_driver_count = suburban_cities_df.groupby([\"city\"]).mean()[\"driver_count\"]\r\n",
    "rural_driver_count = rural_cities_df.groupby([\"city\"]).mean()[\"driver_count\"]\r\n",
    "#rural_driver_count.head()\r\n"
   ],
   "outputs": [],
   "metadata": {}
  },
  {
   "cell_type": "markdown",
   "source": [
    "5.3.5 Create Bubble Charts"
   ],
   "metadata": {}
  },
  {
   "cell_type": "code",
   "execution_count": null,
   "source": [
    "# Build the scatter plots for urban cities.\r\n",
    "plt.scatter(urban_ride_count,\r\n",
    "      urban_avg_fare,\r\n",
    "      s=urban_driver_count)"
   ],
   "outputs": [],
   "metadata": {}
  },
  {
   "cell_type": "code",
   "execution_count": null,
   "source": [
    "# Build the scatter plots for urban cities.\r\n",
    "plt.scatter(urban_ride_count,\r\n",
    "      urban_avg_fare,\r\n",
    "      s=10*urban_driver_count, c=\"coral\",\r\n",
    "      edgecolor=\"black\", linewidths=1,\r\n",
    "      alpha=0.8, label=\"Urban\")\r\n",
    "plt.title(\"PyBer Ride-Sharing Data (2019)\")\r\n",
    "plt.ylabel(\"Average Fare ($)\")\r\n",
    "plt.xlabel(\"Total Number of Rides (Per City)\")\r\n",
    "plt.grid(True)\r\n",
    "# Add the legend.\r\n",
    "plt.legend()"
   ],
   "outputs": [],
   "metadata": {}
  },
  {
   "cell_type": "code",
   "execution_count": null,
   "source": [
    "# Build the scatter plots for suburban cities.\r\n",
    "plt.scatter(suburban_ride_count,\r\n",
    "      suburban_avg_fare,\r\n",
    "      s=10*suburban_driver_count, c=\"skyblue\",\r\n",
    "      edgecolor=\"black\", linewidths=1,\r\n",
    "      alpha=0.8, label=\"Suburban\")\r\n",
    "plt.title(\"PyBer Ride-Sharing Data (2019)\")\r\n",
    "plt.ylabel(\"Average Fare ($)\")\r\n",
    "plt.xlabel(\"Total Number of Rides (Per City)\")\r\n",
    "plt.grid(True)\r\n",
    "# Add the legend.\r\n",
    "plt.legend()"
   ],
   "outputs": [],
   "metadata": {}
  },
  {
   "cell_type": "code",
   "execution_count": null,
   "source": [
    "# Build the scatter plots for rural cities.\r\n",
    "plt.scatter(rural_ride_count,\r\n",
    "      rural_avg_fare,\r\n",
    "      s=10*rural_driver_count, c=\"gold\",\r\n",
    "      edgecolor=\"black\", linewidths=1,\r\n",
    "      alpha=0.8, label=\"Rural\")\r\n",
    "plt.title(\"PyBer Ride-Sharing Data (2019)\")\r\n",
    "plt.ylabel(\"Average Fare ($)\")\r\n",
    "plt.xlabel(\"Total Number of Rides (Per City)\")\r\n",
    "plt.grid(True)\r\n",
    "# Add the legend.\r\n",
    "plt.legend()"
   ],
   "outputs": [],
   "metadata": {}
  },
  {
   "cell_type": "markdown",
   "source": [
    "5.3.6 Create a Bubble Chart for All Cities"
   ],
   "metadata": {}
  },
  {
   "cell_type": "code",
   "execution_count": null,
   "source": [
    "# Add the scatter charts for each type of city.\r\n",
    "plt.scatter(urban_ride_count,\r\n",
    "      urban_avg_fare,\r\n",
    "      s=10*urban_driver_count, c=\"coral\",\r\n",
    "      edgecolor=\"black\", linewidths=1,\r\n",
    "      alpha=0.8, label=\"Urban\")\r\n",
    "\r\n",
    "plt.scatter(suburban_ride_count,\r\n",
    "      suburban_avg_fare,\r\n",
    "      s=10*suburban_driver_count, c=\"skyblue\",\r\n",
    "      edgecolor=\"black\", linewidths=1,\r\n",
    "      alpha=0.8, label=\"Suburban\")\r\n",
    "\r\n",
    "plt.scatter(rural_ride_count,\r\n",
    "      rural_avg_fare,\r\n",
    "      s=10*rural_driver_count, c=\"gold\",\r\n",
    "      edgecolor=\"black\", linewidths=1,\r\n",
    "      alpha=0.8, label=\"Rural\")\r\n",
    "\r\n",
    "# Show the plot\r\n",
    "plt.show()"
   ],
   "outputs": [],
   "metadata": {}
  },
  {
   "cell_type": "code",
   "execution_count": null,
   "source": [
    "# Build the scatter charts for each city type.\r\n",
    "plt.subplots(figsize=(10, 6))\r\n",
    "plt.scatter(urban_ride_count,\r\n",
    "      urban_avg_fare,\r\n",
    "      s=10*urban_driver_count, c=\"coral\",\r\n",
    "      edgecolor=\"black\", linewidths=1,\r\n",
    "      alpha=0.8, label=\"Urban\")\r\n",
    "\r\n",
    "plt.scatter(suburban_ride_count,\r\n",
    "      suburban_avg_fare,\r\n",
    "      s=10*suburban_driver_count, c=\"skyblue\",\r\n",
    "      edgecolor=\"black\", linewidths=1,\r\n",
    "      alpha=0.8, label=\"Suburban\")\r\n",
    "\r\n",
    "plt.scatter(rural_ride_count,\r\n",
    "      rural_avg_fare,\r\n",
    "      s=10*rural_driver_count, c=\"gold\",\r\n",
    "      edgecolor=\"black\", linewidths=1,\r\n",
    "      alpha=0.8, label=\"Rural\")\r\n",
    "\r\n",
    "# Incorporate the other graph properties\r\n",
    "plt.title(\"PyBer Ride-Sharing Data (2019)\", fontsize=20)\r\n",
    "plt.ylabel(\"Average Fare ($)\", fontsize=12)\r\n",
    "plt.xlabel(\"Total Number of Rides (Per City)\", fontsize=12)\r\n",
    "plt.grid(True)\r\n",
    "\r\n",
    "# Add the legend.\r\n",
    "# plt.legend()\r\n",
    "# Create a legend\r\n",
    "lgnd = plt.legend(fontsize=\"12\", mode=\"Expanded\",\r\n",
    "            scatterpoints=1, loc=\"best\", title=\"City Types\")\r\n",
    "lgnd.legendHandles[0]._sizes = [75]\r\n",
    "lgnd.legendHandles[1]._sizes = [75]\r\n",
    "lgnd.legendHandles[2]._sizes = [75]\r\n",
    "lgnd.get_title().set_fontsize(12)\r\n",
    "# Show the plot\r\n",
    "plt.show()"
   ],
   "outputs": [],
   "metadata": {}
  },
  {
   "cell_type": "code",
   "execution_count": null,
   "source": [
    "# Incorporate a text label about circle size.\r\n",
    "plt.text(42, 35, \"Note: Circle size correlates with driver count per city.\", fontsize=\"12\")"
   ],
   "outputs": [],
   "metadata": {}
  },
  {
   "cell_type": "code",
   "execution_count": null,
   "source": [
    "# Save the figure.\r\n",
    "plt.savefig(\"analysis/Fig1.png\")"
   ],
   "outputs": [],
   "metadata": {}
  }
 ],
 "metadata": {
  "orig_nbformat": 4,
  "language_info": {
   "name": "python",
   "version": "3.7.10",
   "mimetype": "text/x-python",
   "codemirror_mode": {
    "name": "ipython",
    "version": 3
   },
   "pygments_lexer": "ipython3",
   "nbconvert_exporter": "python",
   "file_extension": ".py"
  },
  "kernelspec": {
   "name": "python3",
   "display_name": "Python 3.7.10 64-bit ('PythonData': conda)"
  },
  "interpreter": {
   "hash": "c8345a98b94034847f85f50501d97de12384f88e0119f316b4792fb86a5ec994"
  }
 },
 "nbformat": 4,
 "nbformat_minor": 2
}